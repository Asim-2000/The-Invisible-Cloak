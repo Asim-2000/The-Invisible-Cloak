{
 "metadata": {
  "language_info": {
   "codemirror_mode": {
    "name": "ipython",
    "version": 3
   },
   "file_extension": ".py",
   "mimetype": "text/x-python",
   "name": "python",
   "nbconvert_exporter": "python",
   "pygments_lexer": "ipython3",
   "version": "3.7.7-final"
  },
  "orig_nbformat": 2,
  "kernelspec": {
   "name": "python37764bittensorflowenvconda4b0dcfc2aa0a46fca84018320de98b8f",
   "display_name": "Python 3.7.7 64-bit ('tensorflow_env': conda)"
  }
 },
 "nbformat": 4,
 "nbformat_minor": 2,
 "cells": [
  {
   "cell_type": "code",
   "execution_count": 7,
   "metadata": {},
   "outputs": [],
   "source": [
    "#importing necessary modules\n",
    "import cv2\n",
    "import numpy as np\n",
    "import time"
   ]
  },
  {
   "cell_type": "code",
   "execution_count": 8,
   "metadata": {},
   "outputs": [],
   "source": [
    "\"\"\"We are replacing the red colored pixels with the background pixels to create the invisible effect in the video. For doing this, we have to store the background image for each frame.\"\"\"\n",
    "#Reading from the webcam\n",
    "cap=cv2.VideoCapture(0)\n",
    "\n",
    "#Allowing the system to sleep for 3 seconds prior to starting the webcam\n",
    "time.sleep(3)\n",
    "count=0\n",
    "background=0\n",
    "\n",
    "#Capturing the red color that background in the range of 60\n",
    "for i in range(60):\n",
    "    #cap.read() returns a tuple (boolean,object) \n",
    "    #boolean value defines whether the reading was successfull\n",
    "    #and the second item is the image i.e read\n",
    "    ret,background=cap.read()\n",
    "#Flipping the retrieved iamge\n",
    "background=np.flip(background,axis=1)"
   ]
  },
  {
   "cell_type": "code",
   "execution_count": 8,
   "metadata": {},
   "outputs": [],
   "source": [
    "\"\"\"\n",
    "In this step, we will put our focus on detecting the red part in the image. We will convert the RGB (red-blue-green) to HSV(hue-saturation-value) because RGB values are highly sensitive to illumination. After the conversion of RGB to HSV, it is time to specify the range of color to detect red color in the video.\n",
    "\"\"\"\n",
    "#Reading each and every frame fromw webcam untill its open\n",
    "while (cap.isOpened()):\n",
    "    ret,image=cap.read()\n",
    "    if not ret:   #if the return value is false (image not read)\n",
    "        break  #Breaking the loop so that it discontinues reading from webcam\n",
    "    count+=1 #Else increase the frame count by 1\n",
    "    image=np.flip(image,axis=1)   #flip the image \n",
    "\n",
    "    #Converting the color space from BGR to HSV\n",
    "    hsv=cv2.cvtColor(image,cv2.COLOR_BGR2HSV)\n",
    "\n",
    "    #Generating masks to detect red color\n",
    "    lower_red = np.array([0, 125, 50])\n",
    "    upper_red = np.array([10, 255,255])\n",
    "    mask1 = cv2.inRange(hsv, lower_red, upper_red)\n",
    "\n",
    "    lower_red = np.array([170, 120, 70])\n",
    "    upper_red = np.array([180, 255, 255])\n",
    "    mask2 = cv2.inRange(hsv, lower_red, upper_red)\n",
    "    mask1 = mask1 + mask2\n",
    "cap.isOpened()=False\n",
    "\n"
   ]
  },
  {
   "cell_type": "code",
   "execution_count": null,
   "metadata": {},
   "outputs": [],
   "source": []
  }
 ]
}